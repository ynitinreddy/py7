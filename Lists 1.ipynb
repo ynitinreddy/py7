{
 "cells": [
  {
   "cell_type": "code",
   "execution_count": 2,
   "metadata": {},
   "outputs": [
    {
     "name": "stdout",
     "output_type": "stream",
     "text": [
      "sum= 21\n"
     ]
    }
   ],
   "source": [
    "#Program to sum all items in a List\n",
    "\n",
    "list=[10,20,40]\n",
    "print(\"sum of all items=\",sum(list))"
   ]
  },
  {
   "cell_type": "code",
   "execution_count": 4,
   "metadata": {},
   "outputs": [
    {
     "name": "stdout",
     "output_type": "stream",
     "text": [
      "Sum = 3840\n"
     ]
    }
   ],
   "source": [
    "#Multiply all items in a List\n",
    "\n",
    "a=[2,4,6,8,10]\n",
    "tot = 1\n",
    "for x in a:\n",
    "        tot *= x\n",
    "print(\"Sum =\",tot)"
   ]
  },
  {
   "cell_type": "code",
   "execution_count": 5,
   "metadata": {},
   "outputs": [
    {
     "name": "stdout",
     "output_type": "stream",
     "text": [
      "Largest= 45\n",
      "Smallest= 0\n"
     ]
    }
   ],
   "source": [
    "#print Largest and Smallest number in a LIST\n",
    "\n",
    "b=[23,45,34,12,1,0]\n",
    "print(\"Largest=\",max(b))\n",
    "print(\"Smallest=\",min(b))"
   ]
  },
  {
   "cell_type": "code",
   "execution_count": 6,
   "metadata": {},
   "outputs": [
    {
     "name": "stdout",
     "output_type": "stream",
     "text": [
      "{40, 10, 80, 50, 20, 60, 30}\n"
     ]
    }
   ],
   "source": [
    "#Python program to remove Duplicates from list\n",
    "a = [10,20,30,20,10,50,60,40,80,50,40]\n",
    "\n",
    "dup_items = set()\n",
    "uniq_items = []\n",
    "for x in a:\n",
    "    if x not in dup_items:\n",
    "        uniq_items.append(x)\n",
    "        dup_items.add(x)\n",
    "\n",
    "print(dup_items)\n"
   ]
  },
  {
   "cell_type": "code",
   "execution_count": 1,
   "metadata": {},
   "outputs": [
    {
     "name": "stdout",
     "output_type": "stream",
     "text": [
      "list is not empty\n"
     ]
    }
   ],
   "source": [
    "#program to check a list is empty or not\n",
    "a=[10,14,19] \n",
    "if not a:\n",
    "    print (\"list is empty\")\n",
    "else:\n",
    "    print (\"list is not empty\")"
   ]
  },
  {
   "cell_type": "code",
   "execution_count": null,
   "metadata": {},
   "outputs": [],
   "source": []
  }
 ],
 "metadata": {
  "kernelspec": {
   "display_name": "Python 3",
   "language": "python",
   "name": "python3"
  },
  "language_info": {
   "codemirror_mode": {
    "name": "ipython",
    "version": 3
   },
   "file_extension": ".py",
   "mimetype": "text/x-python",
   "name": "python",
   "nbconvert_exporter": "python",
   "pygments_lexer": "ipython3",
   "version": "3.8.3"
  }
 },
 "nbformat": 4,
 "nbformat_minor": 4
}
